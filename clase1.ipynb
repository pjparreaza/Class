{
 "cells": [
  {
   "cell_type": "code",
   "execution_count": 26,
   "id": "ebd1314d",
   "metadata": {},
   "outputs": [
    {
     "name": "stdout",
     "output_type": "stream",
     "text": [
      "Hello, World!\n"
     ]
    }
   ],
   "source": [
    "print(\"Hello, World!\")"
   ]
  },
  {
   "cell_type": "code",
   "execution_count": 27,
   "id": "7b8d6f15",
   "metadata": {},
   "outputs": [
    {
     "name": "stdout",
     "output_type": "stream",
     "text": [
      "Bienvenidos a las prácticas de Python\n"
     ]
    }
   ],
   "source": [
    "print(\"Bienvenidos a las prácticas de Python\")"
   ]
  },
  {
   "cell_type": "markdown",
   "id": "cbc6eafe",
   "metadata": {},
   "source": [
    "Este es un segmento de texto\n",
    "#Títulos\n",
    "#Subtítulos\n",
    "## Otros Subtítulos"
   ]
  },
  {
   "cell_type": "code",
   "execution_count": null,
   "id": "37c29cac",
   "metadata": {},
   "outputs": [],
   "source": []
  },
  {
   "cell_type": "code",
   "execution_count": 28,
   "id": "a7b8c947",
   "metadata": {},
   "outputs": [],
   "source": [
    "nombre = \"Juan\"\n",
    "edad = 25\n",
    "altura = 1.80\n",
    "es_estudiante = True\n"
   ]
  },
  {
   "cell_type": "code",
   "execution_count": 29,
   "id": "639a5e26",
   "metadata": {},
   "outputs": [
    {
     "name": "stdout",
     "output_type": "stream",
     "text": [
      "25\n"
     ]
    }
   ],
   "source": [
    "print(edad)"
   ]
  },
  {
   "cell_type": "code",
   "execution_count": 30,
   "id": "bee2799d",
   "metadata": {},
   "outputs": [
    {
     "name": "stdout",
     "output_type": "stream",
     "text": [
      "1.8\n"
     ]
    }
   ],
   "source": [
    "print(altura)"
   ]
  },
  {
   "cell_type": "code",
   "execution_count": 31,
   "id": "58b3be90",
   "metadata": {},
   "outputs": [
    {
     "name": "stdout",
     "output_type": "stream",
     "text": [
      "El ususario se llama Juan, tiene 25 años de edad, mide 1.8 metros\n"
     ]
    }
   ],
   "source": [
    "print(f\"El ususario se llama {nombre}, tiene {edad} años de edad, mide {altura} metros\")"
   ]
  },
  {
   "cell_type": "code",
   "execution_count": 32,
   "id": "3aab5ce0",
   "metadata": {},
   "outputs": [
    {
     "name": "stdout",
     "output_type": "stream",
     "text": [
      "Número original: 10\n",
      "Número nuevo: 60\n"
     ]
    }
   ],
   "source": [
    "mi_numero = 10\n",
    "print(f\"Número original: {mi_numero}\")\n",
    "\n",
    "mi_numero = 60\n",
    "print(f\"Número nuevo: {mi_numero}\")"
   ]
  },
  {
   "cell_type": "code",
   "execution_count": 33,
   "id": "90b88e45",
   "metadata": {},
   "outputs": [],
   "source": [
    "num_int1 = 123\n",
    "num_int2 = -57"
   ]
  },
  {
   "cell_type": "code",
   "execution_count": 34,
   "id": "1b097bda",
   "metadata": {},
   "outputs": [],
   "source": [
    "num_float1 = 3.14\n",
    "num_float2 = -0.16"
   ]
  },
  {
   "cell_type": "code",
   "execution_count": 35,
   "id": "88ecaf90",
   "metadata": {},
   "outputs": [],
   "source": [
    "bool_var1 = True\n",
    "bool_var2 = False"
   ]
  },
  {
   "cell_type": "code",
   "execution_count": 36,
   "id": "340bb4cc",
   "metadata": {},
   "outputs": [
    {
     "data": {
      "text/plain": [
       "True"
      ]
     },
     "execution_count": 36,
     "metadata": {},
     "output_type": "execute_result"
    }
   ],
   "source": [
    "bool_var1"
   ]
  },
  {
   "cell_type": "code",
   "execution_count": 37,
   "id": "ecd97485",
   "metadata": {},
   "outputs": [
    {
     "data": {
      "text/plain": [
       "False"
      ]
     },
     "execution_count": 37,
     "metadata": {},
     "output_type": "execute_result"
    }
   ],
   "source": [
    "bool_var1\n",
    "bool_var2"
   ]
  },
  {
   "cell_type": "code",
   "execution_count": 38,
   "id": "3a29221f",
   "metadata": {},
   "outputs": [
    {
     "data": {
      "text/plain": [
       "True"
      ]
     },
     "execution_count": 38,
     "metadata": {},
     "output_type": "execute_result"
    }
   ],
   "source": [
    "bool_var2\n",
    "bool_var1"
   ]
  },
  {
   "cell_type": "code",
   "execution_count": 39,
   "id": "39ceaf7c",
   "metadata": {},
   "outputs": [
    {
     "name": "stdout",
     "output_type": "stream",
     "text": [
      "True\n",
      "False\n"
     ]
    }
   ],
   "source": [
    "print(bool_var1)\n",
    "print(bool_var2)"
   ]
  },
  {
   "cell_type": "code",
   "execution_count": 40,
   "id": "71a5d9a7",
   "metadata": {},
   "outputs": [],
   "source": [
    "list_numbers = [1, 2, 3, 4, 5]\n",
    "list_strings = [\"A\", \"B\", \"C\", \"D\"]"
   ]
  },
  {
   "cell_type": "code",
   "execution_count": 41,
   "id": "397a4dce",
   "metadata": {},
   "outputs": [
    {
     "data": {
      "text/plain": [
       "'A'"
      ]
     },
     "execution_count": 41,
     "metadata": {},
     "output_type": "execute_result"
    }
   ],
   "source": [
    "list_strings[0]"
   ]
  },
  {
   "cell_type": "code",
   "execution_count": 42,
   "id": "d5840ec2",
   "metadata": {},
   "outputs": [
    {
     "data": {
      "text/plain": [
       "1"
      ]
     },
     "execution_count": 42,
     "metadata": {},
     "output_type": "execute_result"
    }
   ],
   "source": [
    "list_numbers[0]"
   ]
  },
  {
   "cell_type": "markdown",
   "id": "11b9ad11",
   "metadata": {},
   "source": [
    "Para una lista (suponer que se llama X)\n",
    " \n",
    "     X = [a1, a2, a3, a4, ..., an]\n",
    "posicion:  0   1  2    3 ..... n-1\n"
   ]
  },
  {
   "cell_type": "code",
   "execution_count": 43,
   "id": "6ce68672",
   "metadata": {},
   "outputs": [
    {
     "data": {
      "text/plain": [
       "'C'"
      ]
     },
     "execution_count": 43,
     "metadata": {},
     "output_type": "execute_result"
    }
   ],
   "source": [
    "list_strings[2]"
   ]
  },
  {
   "cell_type": "markdown",
   "id": "c35350a4",
   "metadata": {},
   "source": [
    "## Operadores"
   ]
  },
  {
   "cell_type": "code",
   "execution_count": 44,
   "id": "2d9ebf86",
   "metadata": {},
   "outputs": [
    {
     "name": "stdout",
     "output_type": "stream",
     "text": [
      "8\n",
      "15\n"
     ]
    }
   ],
   "source": [
    "x = 5\n",
    "y = 3\n",
    "\n",
    "z = x + y  # Salida: z = 8\n",
    "print(z)\n",
    "\n",
    "z = x * y  # Salida: z = 15\n",
    "print(z)"
   ]
  },
  {
   "cell_type": "code",
   "execution_count": 45,
   "id": "5f6c07a2",
   "metadata": {},
   "outputs": [
    {
     "name": "stdout",
     "output_type": "stream",
     "text": [
      "El resultado de la suma es 8\n",
      "El resultado del producto 15\n"
     ]
    }
   ],
   "source": [
    "x = 5\n",
    "y = 3\n",
    "\n",
    "z = x + y  # Salida: z = 8\n",
    "print(f\"El resultado de la suma es {z}\")\n",
    "\n",
    "z = x * y  # Salida: z = 15\n",
    "print(f\"El resultado del producto {z}\")"
   ]
  },
  {
   "cell_type": "markdown",
   "id": "3626ca5b",
   "metadata": {},
   "source": [
    "Operadores logicos"
   ]
  },
  {
   "cell_type": "code",
   "execution_count": 46,
   "id": "94714acd",
   "metadata": {},
   "outputs": [
    {
     "data": {
      "text/plain": [
       "False"
      ]
     },
     "execution_count": 46,
     "metadata": {},
     "output_type": "execute_result"
    }
   ],
   "source": [
    "True and False"
   ]
  },
  {
   "cell_type": "code",
   "execution_count": 47,
   "id": "da7365a0",
   "metadata": {},
   "outputs": [
    {
     "data": {
      "text/plain": [
       "True"
      ]
     },
     "execution_count": 47,
     "metadata": {},
     "output_type": "execute_result"
    }
   ],
   "source": [
    "True or False"
   ]
  },
  {
   "cell_type": "code",
   "execution_count": 48,
   "id": "1032ab98",
   "metadata": {},
   "outputs": [
    {
     "data": {
      "text/plain": [
       "True"
      ]
     },
     "execution_count": 48,
     "metadata": {},
     "output_type": "execute_result"
    }
   ],
   "source": [
    "not False"
   ]
  },
  {
   "cell_type": "code",
   "execution_count": 49,
   "id": "efa3f453",
   "metadata": {},
   "outputs": [
    {
     "data": {
      "text/plain": [
       "True"
      ]
     },
     "execution_count": 49,
     "metadata": {},
     "output_type": "execute_result"
    }
   ],
   "source": [
    "not not True"
   ]
  },
  {
   "cell_type": "markdown",
   "id": "263c17dc",
   "metadata": {},
   "source": [
    "## Estructura de decision \n",
    "\n",
    "Si \n",
    "if \"REGLA\":\n",
    "     Se coloca la instruccion/operacion que hara la maquina\n"
   ]
  },
  {
   "cell_type": "code",
   "execution_count": 50,
   "id": "a4f7608b",
   "metadata": {},
   "outputs": [
    {
     "name": "stdout",
     "output_type": "stream",
     "text": [
      "Eres mayor de edad.\n"
     ]
    }
   ],
   "source": [
    "edad = 45\n",
    "if edad >= 18:\n",
    "    print(\"Eres mayor de edad.\")"
   ]
  },
  {
   "cell_type": "code",
   "execution_count": 51,
   "id": "5264819d",
   "metadata": {},
   "outputs": [
    {
     "data": {
      "text/plain": [
       "True"
      ]
     },
     "execution_count": 51,
     "metadata": {},
     "output_type": "execute_result"
    }
   ],
   "source": [
    "edad >= 18"
   ]
  },
  {
   "cell_type": "markdown",
   "id": "d094cc25",
   "metadata": {},
   "source": [
    "Sino , complemente si\n",
    "\n",
    "si (condicion):\n",
    "\n",
    "    Lo que haga el programa\n",
    "en caso contrario\n",
    "   \n",
    "   lo que deba hacer"
   ]
  },
  {
   "cell_type": "code",
   "execution_count": 52,
   "id": "6c6f7f78",
   "metadata": {},
   "outputs": [
    {
     "name": "stdout",
     "output_type": "stream",
     "text": [
      "Eres mayor de edad.\n"
     ]
    }
   ],
   "source": [
    "edad = 45\n",
    "if edad >= 18:\n",
    "    print(\"Eres mayor de edad.\")\n",
    "else:\n",
    "    print(\"No eres mayor de edad.\")"
   ]
  },
  {
   "cell_type": "code",
   "execution_count": 53,
   "id": "6f8f575a",
   "metadata": {},
   "outputs": [
    {
     "name": "stdout",
     "output_type": "stream",
     "text": [
      "No eres mayor de edad.\n"
     ]
    }
   ],
   "source": [
    "edad = 12\n",
    "if edad >= 18:\n",
    "    print(\"Eres mayor de edad.\")\n",
    "else:\n",
    "    print(\"No eres mayor de edad.\")"
   ]
  },
  {
   "cell_type": "markdown",
   "id": "6d56bbe4",
   "metadata": {},
   "source": [
    "elif es una extensión del if"
   ]
  },
  {
   "cell_type": "code",
   "execution_count": 54,
   "id": "8d9d16a2",
   "metadata": {},
   "outputs": [
    {
     "data": {
      "text/plain": [
       "[1, 2, 3, 4, 5, 6, 7, 8, 9, 10]"
      ]
     },
     "execution_count": 54,
     "metadata": {},
     "output_type": "execute_result"
    }
   ],
   "source": [
    "X = [1,2,3,4,5,6,7,8,9,10]\n",
    "X\n",
    "\n"
   ]
  },
  {
   "cell_type": "code",
   "execution_count": 55,
   "id": "ab5c709e",
   "metadata": {},
   "outputs": [
    {
     "data": {
      "text/plain": [
       "10"
      ]
     },
     "execution_count": 55,
     "metadata": {},
     "output_type": "execute_result"
    }
   ],
   "source": [
    "X[9]"
   ]
  },
  {
   "cell_type": "code",
   "execution_count": 56,
   "id": "46401dde",
   "metadata": {},
   "outputs": [
    {
     "data": {
      "text/plain": [
       "10.0"
      ]
     },
     "execution_count": 56,
     "metadata": {},
     "output_type": "execute_result"
    }
   ],
   "source": [
    "20/2"
   ]
  },
  {
   "cell_type": "code",
   "execution_count": 57,
   "id": "c0ba60ff",
   "metadata": {},
   "outputs": [
    {
     "data": {
      "text/plain": [
       "0"
      ]
     },
     "execution_count": 57,
     "metadata": {},
     "output_type": "execute_result"
    }
   ],
   "source": [
    "20%2"
   ]
  },
  {
   "cell_type": "code",
   "execution_count": 58,
   "id": "60ebb99d",
   "metadata": {},
   "outputs": [
    {
     "name": "stdout",
     "output_type": "stream",
     "text": [
      "El numero no es divisible por 3 y su resto es 1\n"
     ]
    }
   ],
   "source": [
    "if X[0] % 3 == 0:\n",
    "    print(\"El numero es divisible por 3 y su resto es 0\")\n",
    "elif X[0] % 3 == 1:\n",
    "    print(\"El numero no es divisible por 3 y su resto es 1\")\n",
    "else:\n",
    "    print(\"el numero no es divisible por 3 y su resto es 2\")"
   ]
  },
  {
   "cell_type": "code",
   "execution_count": 59,
   "id": "92a87365",
   "metadata": {},
   "outputs": [
    {
     "name": "stdout",
     "output_type": "stream",
     "text": [
      "El numero es divisible por 3 y su resto es 0\n"
     ]
    }
   ],
   "source": [
    "j = 5\n",
    "\n",
    "if X[j] % 3 == 0:\n",
    "    print(\"El numero es divisible por 3 y su resto es 0\")\n",
    "elif X[j] % 3 == 1:\n",
    "    print(\"El numero no es divisible por 3 y su resto es 1\")\n",
    "else:\n",
    "    print(\"el numero no es divisible por 3 y su resto es 2\")"
   ]
  },
  {
   "cell_type": "code",
   "execution_count": 60,
   "id": "623f272f",
   "metadata": {},
   "outputs": [
    {
     "data": {
      "text/plain": [
       "6"
      ]
     },
     "execution_count": 60,
     "metadata": {},
     "output_type": "execute_result"
    }
   ],
   "source": [
    "X[j]"
   ]
  },
  {
   "cell_type": "markdown",
   "id": "675ffdba",
   "metadata": {},
   "source": [
    "### Estructuras de repeticion"
   ]
  },
  {
   "cell_type": "code",
   "execution_count": 61,
   "id": "944cf21f",
   "metadata": {},
   "outputs": [
    {
     "name": "stdout",
     "output_type": "stream",
     "text": [
      "0\n",
      "1\n",
      "2\n",
      "3\n",
      "4\n"
     ]
    }
   ],
   "source": [
    "for i in range(5):\n",
    "    print(i)"
   ]
  },
  {
   "cell_type": "code",
   "execution_count": 62,
   "id": "3cb87a84",
   "metadata": {},
   "outputs": [
    {
     "name": "stdout",
     "output_type": "stream",
     "text": [
      "manzana\n",
      "banana\n",
      "cereza\n"
     ]
    }
   ],
   "source": [
    "frutas = [\"manzana\", \"banana\", \"cereza\"]\n",
    "\n",
    "for x in frutas:\n",
    "    print(x)\n"
   ]
  },
  {
   "cell_type": "code",
   "execution_count": 63,
   "id": "5b1b9781",
   "metadata": {},
   "outputs": [
    {
     "data": {
      "text/plain": [
       "[1, 2, 3, 4, 5, 6, 7, 8, 9, 10]"
      ]
     },
     "execution_count": 63,
     "metadata": {},
     "output_type": "execute_result"
    }
   ],
   "source": [
    "X"
   ]
  },
  {
   "cell_type": "code",
   "execution_count": 64,
   "id": "f04de483",
   "metadata": {},
   "outputs": [
    {
     "name": "stdout",
     "output_type": "stream",
     "text": [
      "El número 1 no es divisible por 3 y su resto es 1\n",
      "El número 2 no es divisible por 3 y su resto es 2\n",
      "El número 3 es divisible por 3 y su resto es 0\n",
      "El número 4 no es divisible por 3 y su resto es 1\n",
      "El número 5 no es divisible por 3 y su resto es 2\n",
      "El número 6 es divisible por 3 y su resto es 0\n",
      "El número 7 no es divisible por 3 y su resto es 1\n",
      "El número 8 no es divisible por 3 y su resto es 2\n",
      "El número 9 es divisible por 3 y su resto es 0\n",
      "El número 10 no es divisible por 3 y su resto es 1\n"
     ]
    }
   ],
   "source": [
    "# Tratar de modificar la estructura para que funcione y diga si los elementos de X son divisible por 3\n",
    "\n",
    "for j in X:\n",
    "    if j % 3 == 0:\n",
    "        print(f\"El número {j} es divisible por 3 y su resto es 0\")\n",
    "    elif j % 3 == 1:\n",
    "        print(f\"El número {j} no es divisible por 3 y su resto es 1\")\n",
    "    else:\n",
    "        print(f\"El número {j} no es divisible por 3 y su resto es 2\")\n"
   ]
  },
  {
   "cell_type": "markdown",
   "id": "fe922230",
   "metadata": {},
   "source": [
    "### Mientras\n",
    "\n",
    "\n",
    "Mientras \n",
    "\n",
    "while (condicion):\n",
    "\n",
    "    Lo que haga el programa\n",
    "\n",
    "   \n",
    "   condicion auxiliar (condicion)\n",
    "         \n",
    "    "
   ]
  },
  {
   "cell_type": "markdown",
   "id": "a8e31a5b",
   "metadata": {},
   "source": [
    "### longitud o tamaño de una lista \n",
    "'len' permite saber la cantidad de elementos de una lista\n"
   ]
  },
  {
   "cell_type": "code",
   "execution_count": 65,
   "id": "a775b566",
   "metadata": {},
   "outputs": [
    {
     "data": {
      "text/plain": [
       "[1, 2, 3, 4, 5, 6, 7, 8, 9, 10]"
      ]
     },
     "execution_count": 65,
     "metadata": {},
     "output_type": "execute_result"
    }
   ],
   "source": [
    "X"
   ]
  },
  {
   "cell_type": "code",
   "execution_count": 66,
   "id": "a66d9cb9",
   "metadata": {},
   "outputs": [
    {
     "data": {
      "text/plain": [
       "10"
      ]
     },
     "execution_count": 66,
     "metadata": {},
     "output_type": "execute_result"
    }
   ],
   "source": [
    "len(X) "
   ]
  },
  {
   "cell_type": "markdown",
   "id": "c8ee66f1",
   "metadata": {},
   "source": [
    "la instrccion 'type' permite identificar el tipo de objeto que estamos trabajando "
   ]
  },
  {
   "cell_type": "code",
   "execution_count": 67,
   "id": "15b3157b",
   "metadata": {},
   "outputs": [
    {
     "data": {
      "text/plain": [
       "list"
      ]
     },
     "execution_count": 67,
     "metadata": {},
     "output_type": "execute_result"
    }
   ],
   "source": [
    "type(X)"
   ]
  },
  {
   "cell_type": "code",
   "execution_count": 68,
   "id": "078b7fda",
   "metadata": {},
   "outputs": [],
   "source": [
    "X1 = (1,2,3,4,5,6,7,8,9,10)"
   ]
  },
  {
   "cell_type": "code",
   "execution_count": 69,
   "id": "2902499e",
   "metadata": {},
   "outputs": [
    {
     "data": {
      "text/plain": [
       "tuple"
      ]
     },
     "execution_count": 69,
     "metadata": {},
     "output_type": "execute_result"
    }
   ],
   "source": [
    "type(X1)"
   ]
  },
  {
   "cell_type": "code",
   "execution_count": 70,
   "id": "45f1e48d",
   "metadata": {},
   "outputs": [
    {
     "data": {
      "text/plain": [
       "10"
      ]
     },
     "execution_count": 70,
     "metadata": {},
     "output_type": "execute_result"
    }
   ],
   "source": [
    "len(X1)"
   ]
  },
  {
   "cell_type": "code",
   "execution_count": 71,
   "id": "f404d355",
   "metadata": {},
   "outputs": [],
   "source": [
    "X2 = {\"1\",\"2\",\"3\",\"4\",\"5\",\"6\",\"7\",\"8\",\"9\",\"10\"}"
   ]
  },
  {
   "cell_type": "code",
   "execution_count": 72,
   "id": "8c636fd9",
   "metadata": {},
   "outputs": [
    {
     "data": {
      "text/plain": [
       "set"
      ]
     },
     "execution_count": 72,
     "metadata": {},
     "output_type": "execute_result"
    }
   ],
   "source": [
    "type(X2)"
   ]
  },
  {
   "cell_type": "code",
   "execution_count": 73,
   "id": "7abd02f2",
   "metadata": {},
   "outputs": [
    {
     "data": {
      "text/plain": [
       "10"
      ]
     },
     "execution_count": 73,
     "metadata": {},
     "output_type": "execute_result"
    }
   ],
   "source": [
    "len(X2)"
   ]
  },
  {
   "cell_type": "code",
   "execution_count": 74,
   "id": "f891d79e",
   "metadata": {},
   "outputs": [
    {
     "data": {
      "text/plain": [
       "[1, 2, 3, 4, 5, 6, 7, 8, 9, 10]"
      ]
     },
     "execution_count": 74,
     "metadata": {},
     "output_type": "execute_result"
    }
   ],
   "source": [
    "X"
   ]
  },
  {
   "cell_type": "code",
   "execution_count": 75,
   "id": "48d6822c",
   "metadata": {},
   "outputs": [
    {
     "data": {
      "text/plain": [
       "5"
      ]
     },
     "execution_count": 75,
     "metadata": {},
     "output_type": "execute_result"
    }
   ],
   "source": [
    "X[4]"
   ]
  },
  {
   "cell_type": "markdown",
   "id": "c91a6a19",
   "metadata": {},
   "source": [
    "Cada vez que se coloca X[j] estamos indicandole al programa que me muestre el elementos de X esta en la posicion j"
   ]
  },
  {
   "cell_type": "code",
   "execution_count": 76,
   "id": "f1500e41",
   "metadata": {},
   "outputs": [
    {
     "data": {
      "text/plain": [
       "4"
      ]
     },
     "execution_count": 76,
     "metadata": {},
     "output_type": "execute_result"
    }
   ],
   "source": [
    "j = 3 \n",
    "X[j]"
   ]
  },
  {
   "cell_type": "code",
   "execution_count": 77,
   "id": "e5c3b246",
   "metadata": {},
   "outputs": [
    {
     "data": {
      "text/plain": [
       "(1, 2, 3, 4, 5, 6, 7, 8, 9, 10)"
      ]
     },
     "execution_count": 77,
     "metadata": {},
     "output_type": "execute_result"
    }
   ],
   "source": [
    "X1"
   ]
  },
  {
   "cell_type": "code",
   "execution_count": 78,
   "id": "4289afa9",
   "metadata": {},
   "outputs": [
    {
     "data": {
      "text/plain": [
       "3"
      ]
     },
     "execution_count": 78,
     "metadata": {},
     "output_type": "execute_result"
    }
   ],
   "source": [
    "X1[2]"
   ]
  },
  {
   "cell_type": "code",
   "execution_count": 79,
   "id": "08f63412",
   "metadata": {},
   "outputs": [
    {
     "data": {
      "text/plain": [
       "{'1', '10', '2', '3', '4', '5', '6', '7', '8', '9'}"
      ]
     },
     "execution_count": 79,
     "metadata": {},
     "output_type": "execute_result"
    }
   ],
   "source": [
    "X2"
   ]
  },
  {
   "cell_type": "code",
   "execution_count": 80,
   "id": "8366a8ca",
   "metadata": {},
   "outputs": [
    {
     "ename": "TypeError",
     "evalue": "'set' object is not subscriptable",
     "output_type": "error",
     "traceback": [
      "\u001b[31m---------------------------------------------------------------------------\u001b[39m",
      "\u001b[31mTypeError\u001b[39m                                 Traceback (most recent call last)",
      "\u001b[36mCell\u001b[39m\u001b[36m \u001b[39m\u001b[32mIn[80]\u001b[39m\u001b[32m, line 1\u001b[39m\n\u001b[32m----> \u001b[39m\u001b[32m1\u001b[39m \u001b[43mX2\u001b[49m\u001b[43m[\u001b[49m\u001b[32;43m2\u001b[39;49m\u001b[43m]\u001b[49m\n",
      "\u001b[31mTypeError\u001b[39m: 'set' object is not subscriptable"
     ]
    }
   ],
   "source": [
    "X2[2]"
   ]
  },
  {
   "cell_type": "markdown",
   "id": "9d1cf1d4",
   "metadata": {},
   "source": [
    "Tarea investigar como llamar a un elemento de un conjunto en python"
   ]
  },
  {
   "cell_type": "code",
   "execution_count": null,
   "id": "92990a41",
   "metadata": {},
   "outputs": [
    {
     "name": "stdout",
     "output_type": "stream",
     "text": [
      "0\n",
      "1\n",
      "2\n",
      "3\n",
      "4\n"
     ]
    }
   ],
   "source": [
    "contador = 0\n",
    "\n",
    "while contador < 5:\n",
    "    print(contador)\n",
    "    contador = contador + 1"
   ]
  },
  {
   "cell_type": "code",
   "execution_count": null,
   "id": "1def0ea4",
   "metadata": {},
   "outputs": [
    {
     "name": "stdout",
     "output_type": "stream",
     "text": [
      "0\n",
      "1\n",
      "2\n",
      "3\n",
      "4\n"
     ]
    }
   ],
   "source": [
    "contador = 0\n",
    "\n",
    "while contador < 5:\n",
    "    print(contador)\n",
    "    contador += 1"
   ]
  },
  {
   "cell_type": "code",
   "execution_count": null,
   "id": "3ddea486",
   "metadata": {},
   "outputs": [
    {
     "name": "stdout",
     "output_type": "stream",
     "text": [
      "El número 1 no es divisible por 3 y su resto es 1\n",
      "El número 2 no es divisible por 3 y su resto es 2\n",
      "El número 3 es divisible por 3 y su resto es 0\n",
      "El número 4 no es divisible por 3 y su resto es 1\n",
      "El número 5 no es divisible por 3 y su resto es 2\n",
      "El número 6 es divisible por 3 y su resto es 0\n",
      "El número 7 no es divisible por 3 y su resto es 1\n",
      "El número 8 no es divisible por 3 y su resto es 2\n",
      "El número 9 es divisible por 3 y su resto es 0\n",
      "El número 10 no es divisible por 3 y su resto es 1\n"
     ]
    }
   ],
   "source": [
    "for j in X:\n",
    "    if j % 3 == 0:\n",
    "        print(f\"El número {j} es divisible por 3 y su resto es 0\")\n",
    "    elif j % 3 == 1:\n",
    "        print(f\"El número {j} no es divisible por 3 y su resto es 1\")\n",
    "    else:\n",
    "        print(f\"El número {j} no es divisible por 3 y su resto es 2\")\n"
   ]
  },
  {
   "cell_type": "code",
   "execution_count": null,
   "id": "13d35ad4",
   "metadata": {},
   "outputs": [
    {
     "name": "stdout",
     "output_type": "stream",
     "text": [
      "El número 1 no es divisible por 3 y su resto es 1\n",
      "El número 2 no es divisible por 3 y su resto es 2\n",
      "El número 3 es divisible por 3 y su resto es 0\n",
      "El número 4 no es divisible por 3 y su resto es 1\n",
      "El número 5 no es divisible por 3 y su resto es 2\n",
      "El número 6 es divisible por 3 y su resto es 0\n",
      "El número 7 no es divisible por 3 y su resto es 1\n",
      "El número 8 no es divisible por 3 y su resto es 2\n",
      "El número 9 es divisible por 3 y su resto es 0\n",
      "El número 10 no es divisible por 3 y su resto es 1\n"
     ]
    }
   ],
   "source": [
    "# X = [1, 2, 3, 4, 5, 6, 7, 8, 9, 10]\n",
    "\n",
    "i = 0\n",
    "while i < len(X):\n",
    "    j = X[i]\n",
    "    if j % 3 == 0:\n",
    "        print(f\"El número {j} es divisible por 3 y su resto es 0\")\n",
    "    elif j % 3 == 1:\n",
    "        print(f\"El número {j} no es divisible por 3 y su resto es 1\")\n",
    "    else:\n",
    "        print(f\"El número {j} no es divisible por 3 y su resto es 2\")\n",
    "    i += 1  # i = i + 1\n",
    "    \n"
   ]
  },
  {
   "cell_type": "code",
   "execution_count": null,
   "id": "6ec21a49",
   "metadata": {},
   "outputs": [
    {
     "name": "stdout",
     "output_type": "stream",
     "text": [
      "5\n",
      "10\n",
      "15\n",
      "20\n",
      "25\n",
      "30\n",
      "35\n",
      "40\n",
      "45\n"
     ]
    }
   ],
   "source": [
    "continuar = True\n",
    "suma = 0\n",
    "\n",
    "while continuar == True:\n",
    "    suma = suma + 5\n",
    "    print(suma)\n",
    "    if suma == 45:\n",
    "        continuar = False "
   ]
  },
  {
   "cell_type": "code",
   "execution_count": null,
   "id": "95469ddb",
   "metadata": {},
   "outputs": [
    {
     "name": "stdout",
     "output_type": "stream",
     "text": [
      "45\n"
     ]
    }
   ],
   "source": [
    "continuar = True\n",
    "suma = 0\n",
    "\n",
    "while continuar == True:\n",
    "    suma = suma + 5\n",
    "    if suma == 45:\n",
    "        continuar = False \n",
    "        print(suma)"
   ]
  },
  {
   "cell_type": "markdown",
   "id": "5edef82a",
   "metadata": {},
   "source": [
    "# NumPy\n",
    "\n",
    "*NumPy* es un juego de palabras que significa Python numérico (Numerical Python). Es una librería de código abierto que se utiliza para llevar a cabo tareas matemáticas con altísima eficiencia. Además, introduce estructuras de datos como los arrays multidimensionales, que se pueden operar entre ellos a alto nivel, sin meterse mucho en el detalle."
   ]
  },
  {
   "cell_type": "code",
   "execution_count": null,
   "id": "d96098aa",
   "metadata": {},
   "outputs": [],
   "source": [
    "import numpy as np\n"
   ]
  },
  {
   "cell_type": "code",
   "execution_count": null,
   "id": "bfb20222",
   "metadata": {},
   "outputs": [
    {
     "data": {
      "text/plain": [
       "array([10,  9,  8,  7,  6,  5,  4,  3,  2,  1])"
      ]
     },
     "execution_count": 3,
     "metadata": {},
     "output_type": "execute_result"
    }
   ],
   "source": [
    "# Generar un arreglo unidimensional\n",
    "\n",
    "x1 = np.array([10,9,8,7,6,5,4,3,2,1])\n",
    "x1"
   ]
  },
  {
   "cell_type": "code",
   "execution_count": null,
   "id": "92ce88c7",
   "metadata": {},
   "outputs": [
    {
     "data": {
      "text/plain": [
       "np.int64(8)"
      ]
     },
     "execution_count": 4,
     "metadata": {},
     "output_type": "execute_result"
    }
   ],
   "source": [
    "# Observar una posición en particular\n",
    "\n",
    "x1[2]"
   ]
  },
  {
   "cell_type": "code",
   "execution_count": null,
   "id": "5b8ece6c",
   "metadata": {},
   "outputs": [
    {
     "name": "stdout",
     "output_type": "stream",
     "text": [
      "8\n"
     ]
    }
   ],
   "source": [
    "print(x1[2])"
   ]
  },
  {
   "cell_type": "code",
   "execution_count": null,
   "id": "f46b53bd",
   "metadata": {},
   "outputs": [
    {
     "name": "stdout",
     "output_type": "stream",
     "text": [
      "El valor ubicado en la posición 2 es: 8\n"
     ]
    }
   ],
   "source": [
    "print(f\"El valor ubicado en la posición 2 es: {x1[2]}\")"
   ]
  },
  {
   "cell_type": "code",
   "execution_count": null,
   "id": "d7f375a4",
   "metadata": {},
   "outputs": [
    {
     "name": "stdout",
     "output_type": "stream",
     "text": [
      "[0 9 8 7 6 5 4 3 2 1]\n"
     ]
    }
   ],
   "source": [
    "# Ajustar un valor en particular\n",
    "\n",
    "x1[0] = 0\n",
    "\n",
    "print(x1)"
   ]
  },
  {
   "cell_type": "code",
   "execution_count": null,
   "id": "7229d75b",
   "metadata": {},
   "outputs": [
    {
     "data": {
      "text/plain": [
       "array([0, 9, 8, 7, 6, 5, 4, 3, 2, 1])"
      ]
     },
     "execution_count": 8,
     "metadata": {},
     "output_type": "execute_result"
    }
   ],
   "source": [
    "x1"
   ]
  },
  {
   "cell_type": "code",
   "execution_count": null,
   "id": "c3e4350e",
   "metadata": {},
   "outputs": [
    {
     "data": {
      "text/plain": [
       "array([10, 19, 18, 17, 16, 15, 14, 13, 12, 11])"
      ]
     },
     "execution_count": 9,
     "metadata": {},
     "output_type": "execute_result"
    }
   ],
   "source": [
    "# x1 + k; k = 10\n",
    "\n",
    "x1 = x1 + 10\n",
    "x1"
   ]
  },
  {
   "cell_type": "code",
   "execution_count": null,
   "id": "2078de8f",
   "metadata": {},
   "outputs": [
    {
     "data": {
      "text/plain": [
       "array([20, 29, 28, 27, 26, 25, 24, 23, 22, 21])"
      ]
     },
     "execution_count": 10,
     "metadata": {},
     "output_type": "execute_result"
    }
   ],
   "source": [
    "x1 += 10  # x1 = x1 + 10\n",
    "x1"
   ]
  },
  {
   "cell_type": "code",
   "execution_count": null,
   "id": "92de4d4f",
   "metadata": {},
   "outputs": [
    {
     "name": "stdout",
     "output_type": "stream",
     "text": [
      "La suma de todos los elementos de x1 es igual a: 245\n"
     ]
    }
   ],
   "source": [
    "# Consolidar los valores contenidos en el x1 ( np.sum() ) \n",
    "\n",
    "suma_x1 = np.sum(x1)\n",
    "print(f\"La suma de todos los elementos de x1 es igual a: {suma_x1}\")"
   ]
  },
  {
   "cell_type": "code",
   "execution_count": null,
   "id": "bdebcb5c",
   "metadata": {},
   "outputs": [
    {
     "data": {
      "text/plain": [
       "np.int64(245)"
      ]
     },
     "execution_count": 12,
     "metadata": {},
     "output_type": "execute_result"
    }
   ],
   "source": [
    "suma_x1"
   ]
  },
  {
   "cell_type": "code",
   "execution_count": null,
   "id": "8dd99606",
   "metadata": {},
   "outputs": [
    {
     "data": {
      "text/plain": [
       "10"
      ]
     },
     "execution_count": 13,
     "metadata": {},
     "output_type": "execute_result"
    }
   ],
   "source": [
    "len(x1)"
   ]
  },
  {
   "cell_type": "code",
   "execution_count": null,
   "id": "b8ad5372",
   "metadata": {},
   "outputs": [
    {
     "name": "stdout",
     "output_type": "stream",
     "text": [
      "el promedio de los elementos de x1 es igual a: 24.5\n"
     ]
    }
   ],
   "source": [
    "# Calculemos el promedio de los elementos de x1\n",
    "\n",
    "n = len(x1)\n",
    "promedio = suma_x1/n\n",
    "print(f\"el promedio de los elementos de x1 es igual a: {promedio}\")"
   ]
  },
  {
   "cell_type": "code",
   "execution_count": null,
   "id": "8aeea00b",
   "metadata": {},
   "outputs": [
    {
     "name": "stdout",
     "output_type": "stream",
     "text": [
      "el promedio de los elementos de x1 es igual a: 24.5\n"
     ]
    }
   ],
   "source": [
    "# si usamos la definición de NumPy ( np.mean() )\n",
    "\n",
    "print(f\"el promedio de los elementos de x1 es igual a: {np.mean(x1)}\")"
   ]
  },
  {
   "cell_type": "code",
   "execution_count": null,
   "id": "b4a5f2a8",
   "metadata": {},
   "outputs": [
    {
     "data": {
      "text/plain": [
       "array([10, 19, 18, 17, 16, 15, 14, 13, 12, 11])"
      ]
     },
     "execution_count": 16,
     "metadata": {},
     "output_type": "execute_result"
    }
   ],
   "source": [
    "# Operaciones aritmeticas ( ( np.add(nombre del arreglo, numero con el cual operaremos)) )\n",
    "\n",
    "# suma en numpy\n",
    "x2 = np.add(x1,-10)\n",
    "x2\n"
   ]
  },
  {
   "cell_type": "code",
   "execution_count": null,
   "id": "5397eda2",
   "metadata": {},
   "outputs": [
    {
     "data": {
      "text/plain": [
       "array([20, 29, 28, 27, 26, 25, 24, 23, 22, 21])"
      ]
     },
     "execution_count": 17,
     "metadata": {},
     "output_type": "execute_result"
    }
   ],
   "source": [
    "# Multiplicación \n",
    "\n",
    "x1"
   ]
  },
  {
   "cell_type": "code",
   "execution_count": null,
   "id": "3ede6b06",
   "metadata": {},
   "outputs": [
    {
     "data": {
      "text/plain": [
       "array([40, 58, 56, 54, 52, 50, 48, 46, 44, 42])"
      ]
     },
     "execution_count": 18,
     "metadata": {},
     "output_type": "execute_result"
    }
   ],
   "source": [
    "x1*2"
   ]
  },
  {
   "cell_type": "code",
   "execution_count": null,
   "id": "5f3c0917",
   "metadata": {},
   "outputs": [
    {
     "data": {
      "text/plain": [
       "array([40, 58, 56, 54, 52, 50, 48, 46, 44, 42])"
      ]
     },
     "execution_count": 20,
     "metadata": {},
     "output_type": "execute_result"
    }
   ],
   "source": [
    "# np.multiply(nombre del arreglo, numero con el cual operaremos)\n",
    "np.multiply(x1,2)"
   ]
  },
  {
   "cell_type": "code",
   "execution_count": null,
   "id": "a8ab5002",
   "metadata": {},
   "outputs": [
    {
     "data": {
      "text/plain": [
       "np.float64(24.5)"
      ]
     },
     "execution_count": 21,
     "metadata": {},
     "output_type": "execute_result"
    }
   ],
   "source": [
    "# mediana\n",
    "\n",
    "np.median(x1)"
   ]
  },
  {
   "cell_type": "code",
   "execution_count": null,
   "id": "63fc5293",
   "metadata": {},
   "outputs": [
    {
     "data": {
      "text/plain": [
       "np.float64(2.8722813232690143)"
      ]
     },
     "execution_count": 22,
     "metadata": {},
     "output_type": "execute_result"
    }
   ],
   "source": [
    "# Desviacion estandar np.median()\n",
    "np.std(x1)"
   ]
  },
  {
   "cell_type": "code",
   "execution_count": null,
   "id": "fc1fdce3",
   "metadata": {},
   "outputs": [
    {
     "data": {
      "text/plain": [
       "np.float64(8.25)"
      ]
     },
     "execution_count": 23,
     "metadata": {},
     "output_type": "execute_result"
    }
   ],
   "source": [
    "# Varianza np.var()\n",
    "np.var(x1)"
   ]
  },
  {
   "cell_type": "code",
   "execution_count": null,
   "id": "15746b9d",
   "metadata": {},
   "outputs": [
    {
     "name": "stdout",
     "output_type": "stream",
     "text": [
      "El valor minimo de x1 se ubica en la posicion 0\n",
      "El valor mas pequeño de x1 es 20\n",
      "El valor maximo de x1 se ubica en la posicion 1\n",
      "El valor mas grande de x1 es 29\n"
     ]
    }
   ],
   "source": [
    "# Minimo y Maximo \n",
    "\n",
    "# el comando np.argmin() permite conocer el indice donde se ubica el valor minimo\n",
    "\n",
    "minimo = np.argmin(x1)\n",
    "print(f\"El valor minimo de x1 se ubica en la posicion {minimo}\")\n",
    "\n",
    "# el valor minimo del arreglo se busca con np.min()\n",
    "min_x1 = np.min(x1)\n",
    "print(f\"El valor mas pequeño de x1 es {min_x1}\")\n",
    "\n",
    "# el comando np.argmax() permite conocer el indice donde se ubica el valor maximo\n",
    "\n",
    "maximo = np.argmax(x1)\n",
    "print(f\"El valor maximo de x1 se ubica en la posicion {maximo}\")\n",
    "\n",
    "# el valor maximo del arreglo se ubica con np.max()\n",
    "max_x1 = np.max(x1)\n",
    "print(f\"El valor mas grande de x1 es {max_x1}\")\n",
    "\n"
   ]
  },
  {
   "cell_type": "code",
   "execution_count": 85,
   "id": "8f064c49",
   "metadata": {},
   "outputs": [
    {
     "data": {
      "text/plain": [
       "array([20, 29, 28, 27, 26, 25, 24, 23, 22, 21])"
      ]
     },
     "execution_count": 85,
     "metadata": {},
     "output_type": "execute_result"
    }
   ],
   "source": [
    "x1"
   ]
  },
  {
   "cell_type": "code",
   "execution_count": 87,
   "id": "4a34a5ad",
   "metadata": {},
   "outputs": [],
   "source": [
    "# Funciones de Redondeo"
   ]
  }
 ],
 "metadata": {
  "kernelspec": {
   "display_name": "Python 3",
   "language": "python",
   "name": "python3"
  },
  "language_info": {
   "codemirror_mode": {
    "name": "ipython",
    "version": 3
   },
   "file_extension": ".py",
   "mimetype": "text/x-python",
   "name": "python",
   "nbconvert_exporter": "python",
   "pygments_lexer": "ipython3",
   "version": "3.12.1"
  }
 },
 "nbformat": 4,
 "nbformat_minor": 5
}
